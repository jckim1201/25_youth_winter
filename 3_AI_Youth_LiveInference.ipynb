{
 "cells": [
  {
   "cell_type": "markdown",
   "id": "732feb7e-9060-436b-9fdb-c16fba8e6340",
   "metadata": {},
   "source": [
    "<img src=\"./images/kisti_logo.jpg\" width=\"100\"> <img src=\"./images/unist_logo.jpg\" width=\"100\"> <img src=\"./images/kisti_mas1.png\" width=\"90\"> <img src=\"./images/unist_mas.jpg\" width=\"70\">\n",
    "\n",
    "# **2025년 겨울방학 AI 팀프로젝트 슈퍼컴퓨팅 청소년 캠프**\n",
    "---\n",
    "### **Edge Device를 이용한 AI 실습**\n",
    "### **3. USB 카메라를 이용한 실시간 훈련 모델 확인**\n",
    "---"
   ]
  },
  {
   "cell_type": "code",
   "execution_count": null,
   "id": "1c5655e4-3f49-4f57-b39e-057f46d780aa",
   "metadata": {},
   "outputs": [],
   "source": [
    "# 모델 경로와 클래스 정보 설정\n",
    "MODEL_PATH = '/nvdli-nano/data/model_full.pth'\n",
    "CATEGORIES = ['thumbs_down', 'thumbs_up']  # 카테고리 목록, 알파벳 순\n",
    "#CATEGORIES = ['Paper', 'Rock', 'scissors']  # 카테고리 목록, 알파벳 순"
   ]
  },
  {
   "cell_type": "markdown",
   "id": "40bf99f5-df79-4d3e-b92d-8d86ff3bc62b",
   "metadata": {},
   "source": [
    "---\n",
    "### **카메라 설정 및 모델 로드**"
   ]
  },
  {
   "cell_type": "code",
   "execution_count": null,
   "id": "6aeca2d9-4bfd-4409-8d81-f45a41f993ad",
   "metadata": {},
   "outputs": [],
   "source": [
    "from jetcam.usb_camera import USBCamera\n",
    "from jetcam.utils import bgr8_to_jpeg\n",
    "import ipywidgets\n",
    "import traitlets\n",
    "import torch\n",
    "import torchvision.transforms as transforms\n",
    "import torch.nn.functional as F\n",
    "from utils import preprocess\n",
    "import threading\n",
    "\n",
    "# 보드에 카메라 연결 확인\n",
    "!ls -ltrh /dev/video*\n",
    "# 카메라 설정 (USB 카메라 기준)\n",
    "camera = USBCamera(width=320, height=240, capture_device=0)\n",
    "camera.running = True\n",
    "print(\"카메라 생성 완료\")\n",
    "\n",
    "# 모델 전체 로드 (구조 + 가중치)\n",
    "device = torch.device(\"cuda\" if torch.cuda.is_available() else \"cpu\")\n",
    "# 하드웨어 메시지 출력\n",
    "if device.type == \"cuda\":\n",
    "    print(\"cuda 이용\")\n",
    "else:\n",
    "    print(\"cpu 이용\")\n",
    "    \n",
    "model = torch.load(MODEL_PATH)\n",
    "model = model.to(device)  # 모델을 GPU 또는 CPU로 이동\n",
    "model.eval()\n",
    "\n",
    "# display(model_widget)\n",
    "print(\"모델 로드 및 설정 완료\")\n",
    "print(model)"
   ]
  },
  {
   "cell_type": "markdown",
   "id": "902e1e0b-efe2-4fdc-b31e-aca563c64a47",
   "metadata": {},
   "source": [
    "---\n",
    "### **<span style=\"color:red\">모델의 결과를 위젯을 통해 실시간으로 확인</span>**\n",
    "- category 별 막대 그래프를 통해 정확도 확인\n",
    "- Prediction 값을 통해 카메라 이미지의 결과가 어떤 category에 포함되어 있는 지 확인\n",
    "- Probabiligy 값을 통해 이미지가 포함된 category의 정확도를 확인"
   ]
  },
  {
   "cell_type": "code",
   "execution_count": null,
   "id": "645d2600-3311-44d8-ba0c-962e4e8c3b9f",
   "metadata": {},
   "outputs": [],
   "source": [
    "# 위젯 생성\n",
    "camera_widget = ipywidgets.Image()  # 실시간 카메라 이미지 표시# 카메라 화면 연결\n",
    "traitlets.dlink((camera, 'value'), (camera_widget, 'value'), transform=bgr8_to_jpeg)\n",
    "prediction_widget = ipywidgets.Text(description='Prediction', value='', disabled=True)\n",
    "probability_widget = ipywidgets.Text(description='Probability', value='', disabled=True)\n",
    "score_widgets = [\n",
    "    ipywidgets.FloatSlider(min=0.0, max=1.0, description=category, orientation='vertical')\n",
    "    for category in CATEGORIES\n",
    "]\n",
    "state_widget = ipywidgets.ToggleButtons(options=['stop', 'live'], description='State', value='stop')\n",
    "\n",
    "# 실시간 예측 함수\n",
    "def live_prediction(state_widget, model, camera, prediction_widget, score_widgets):\n",
    "    while state_widget.value == 'live':\n",
    "        if camera.value is not None:\n",
    "            image = preprocess(camera.value)  # 이미지 전처리\n",
    "            output = model(image)\n",
    "            output = F.softmax(output, dim=1).detach().cpu().numpy().flatten()\n",
    "\n",
    "            # 예측 결과 업데이트\n",
    "            category_index = output.argmax()\n",
    "            prediction_widget.value = CATEGORIES[category_index]\n",
    "            probability_widget.value = f\"{output[category_index] * 100:.2f}%\"\n",
    "            for i, score in enumerate(output):\n",
    "                score_widgets[i].value = score\n",
    "\n",
    "# 실시간 예측 시작 함수\n",
    "def start_live(change):\n",
    "    if change['new'] == 'live':\n",
    "        threading.Thread(target=live_prediction, args=(state_widget, model, camera, prediction_widget, score_widgets)).start()\n",
    "\n",
    "state_widget.observe(start_live, names='value')\n",
    "\n",
    "# 위젯 레이아웃 구성\n",
    "live_execution_widget = ipywidgets.VBox([\n",
    "    ipywidgets.HBox(score_widgets),\n",
    "    prediction_widget, probability_widget,\n",
    "    state_widget\n",
    "])\n",
    "\n",
    "display(ipywidgets.VBox([\n",
    "    ipywidgets.HBox([camera_widget]),\n",
    "    live_execution_widget\n",
    "]))\n",
    "\n",
    "# 카메라 화면 연결\n",
    "traitlets.dlink((camera, 'value'), (camera_widget, 'value'), transform=bgr8_to_jpeg)\n",
    "print(\"프로그램 실행 준비 완료\")\n"
   ]
  },
  {
   "cell_type": "markdown",
   "id": "d377a10a-034f-4aea-9c26-18b47b067e77",
   "metadata": {},
   "source": [
    "---\n",
    "### **카메라 및 프로그램 종료**\n",
    "\n",
    "- 카메라 인스턴스 종료 및 커널 종료"
   ]
  },
  {
   "cell_type": "code",
   "execution_count": null,
   "id": "9b7f918a-b312-460e-b9ec-79bd177f546c",
   "metadata": {},
   "outputs": [],
   "source": [
    "# 카메라 종료 (리소스 해제), 커널 종료\n",
    "import os\n",
    "os._exit(00)"
   ]
  }
 ],
 "metadata": {
  "kernelspec": {
   "display_name": "Python 3 (ipykernel)",
   "language": "python",
   "name": "python3"
  },
  "language_info": {
   "codemirror_mode": {
    "name": "ipython",
    "version": 3
   },
   "file_extension": ".py",
   "mimetype": "text/x-python",
   "name": "python",
   "nbconvert_exporter": "python",
   "pygments_lexer": "ipython3",
   "version": "3.9.13"
  }
 },
 "nbformat": 4,
 "nbformat_minor": 5
}
