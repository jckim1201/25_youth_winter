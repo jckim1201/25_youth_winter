{
 "cells": [
  {
   "cell_type": "markdown",
   "id": "48bd864a-459a-41c6-9489-ab4bd6a578f1",
   "metadata": {},
   "source": [
    "<img src=\"./images/kisti_logo.jpg\" width=\"100\"> <img src=\"./images/unist_logo.jpg\" width=\"100\"> <img src=\"./images/kisti_mas0.png\" width=\"90\"> <img src=\"./images/unist_mas.jpg\" width=\"70\">\n",
    "\n",
    "# **2025년 겨울방학 AI 팀프로젝트 슈퍼컴퓨팅 청소년 캠프**\n",
    "---\n",
    "### **Edge Device를 이용한 AI 실습**\n",
    "### **1. 훈련 이미지 수집**\n",
    "---"
   ]
  },
  {
   "cell_type": "markdown",
   "id": "ab0f6ef3-5145-46f8-8586-1bb801037810",
   "metadata": {},
   "source": [
    "이 노트북은 2025년 KISTI/UNIST 겨울방학 AI 팀프로젝트 슈퍼컴퓨팅 청소년 캠프에서, Edge Device를 활용한 AI 실습을 위한 데이터 수집, 훈련, 테스트 도구 입니다. \n",
    "\n",
    "NVIDIA Deep Learnning Institute course를 참고하여 작성되었으며, Jetson Orin Nano와 USB camera를 이용하여 실습이 가능하도록 작성되었습니다.\n",
    "\n",
    "실습은 노트북의 셀을 순차적으로 적용하면서 진행됩니다."
   ]
  },
  {
   "cell_type": "markdown",
   "id": "828e586c-ec41-46d2-b8f5-54b7999f20d5",
   "metadata": {},
   "source": [
    "---\n",
    "### USB 카메라 연결 확인\n",
    "\n",
    "<div style=\"border:2px solid black; background-color:#e3ffb3; font-size:12px; padding:8px; margin-top: auto;\">\n",
    "    <p>USBCamera의 인스턴스는 한 번에 하나만 있을 수 있습니다. 이 셀을 시작하기 전에 실행되고 있는 카메라 인스턴스가 해제 되어있어야 합니다. 해제하기 위해 기존 인스턴스를 종료 하거나 커널을 종료해 주세요. </p>\n",
    "</div>"
   ]
  },
  {
   "cell_type": "code",
   "execution_count": null,
   "id": "7aa20010-7fc4-4df4-9339-af6c489aa9f0",
   "metadata": {},
   "outputs": [],
   "source": [
    "# 보드에 카메라 연결 확인\n",
    "!ls -ltrh /dev/video*"
   ]
  },
  {
   "cell_type": "code",
   "execution_count": null,
   "id": "4743d053-b5dc-40cf-abf4-a8a7518c83c9",
   "metadata": {},
   "outputs": [],
   "source": [
    "# jetcam 라이브러리를 이용한 USB 카메라 연결 설정\n",
    "from jetcam.usb_camera import USBCamera\n",
    "\n",
    "# usb 카메라 설정 (QVGA 사이즈, 가로:320, 세로:240 픽셀의 이미지를 video 0에서 획득)\n",
    "camera = USBCamera(width=320, height=240, capture_device=0) \n",
    "\n",
    "camera.running = True\n",
    "print(\"카메라 확인 됨\")"
   ]
  },
  {
   "cell_type": "markdown",
   "id": "82331c6d-b761-4104-b4e5-247a108ca3f5",
   "metadata": {},
   "source": [
    "---\n",
    "### **(수정) 문제 설정**\n",
    "\n",
    "문제를 설정을 위해 `TASK`와 수집할 데이터의 `CATEGORIES`를 정의. 선택한 이름으로 여러 데이터세트 `DATASETS`에 대한 공간을 정의.\n",
    "\n",
    "기본 예제로 정의된 문제는 엄지를 든 손의 업/다운을 판단하는 분류(classification) 문제이다."
   ]
  },
  {
   "cell_type": "code",
   "execution_count": null,
   "id": "66968fb2-ca34-4fd6-9a46-657158f4c7b6",
   "metadata": {},
   "outputs": [],
   "source": [
    "# 문제 제목 설정\n",
    "TASK = 'thumbs'\n",
    "\n",
    "# 문제 수집 데이터 정의\n",
    "CATEGORIES = ['thumbs_up', 'thumbs_down']\n",
    "\n",
    "# 수집 데이터 세트 정의 (각 조별)\n",
    "DATASETS = ['A', 'B']\n",
    "\n",
    "# 데이터 저장 폴더 지정, 만약에 없는 경우 이후 생성\n",
    "DATA_DIR = './classification/'"
   ]
  },
  {
   "cell_type": "markdown",
   "id": "4641dd1a-8bee-45e9-b858-ff5130d3b015",
   "metadata": {},
   "source": [
    "아래 셀 부터는 수정 금지\n",
    "\n",
    "---\n",
    "카테고리 정의 및 이미지 저장 폴더 확인"
   ]
  },
  {
   "cell_type": "code",
   "execution_count": null,
   "id": "429b1935-7ba3-43ed-9876-7c543b865a16",
   "metadata": {},
   "outputs": [],
   "source": [
    "from dataset import ImageClassificationDataset\n",
    "\n",
    "datasets = {}\n",
    "for name in DATASETS:\n",
    "    datasets[name] = ImageClassificationDataset(DATA_DIR + TASK + '_' + name, CATEGORIES)\n",
    "    \n",
    "print(\"{} 문제를 위한 {} 카테고리 정의 완료\".format(TASK, CATEGORIES))\n",
    "\n",
    "# 데이터 저장 폴더 지정, 만약에 없는 경우 생성\n",
    "!mkdir -p {DATA_DIR}"
   ]
  },
  {
   "cell_type": "markdown",
   "id": "4b3b8279-71e1-4966-a549-ecad83a1c17a",
   "metadata": {},
   "source": [
    "---\n",
    "### Data 수집 위젯 생성\n",
    "\n",
    "데이터 수집 도구 위젯을 생성하여 데이터 수집을 쉽게 할 수 있게 함."
   ]
  },
  {
   "cell_type": "code",
   "execution_count": null,
   "id": "3ee05b13-527c-44f0-baed-13e64b1babc3",
   "metadata": {},
   "outputs": [],
   "source": [
    "import ipywidgets\n",
    "import traitlets\n",
    "from IPython.display import display\n",
    "from jetcam.utils import bgr8_to_jpeg\n",
    "\n",
    "# initialize active dataset\n",
    "dataset = datasets[DATASETS[0]]\n",
    "\n",
    "# unobserve all callbacks from camera in case we are running this cell for second time\n",
    "camera.unobserve_all()\n",
    "\n",
    "# create image preview\n",
    "camera_widget = ipywidgets.Image()\n",
    "traitlets.dlink((camera, 'value'), (camera_widget, 'value'), transform=bgr8_to_jpeg)\n",
    "\n",
    "# create widgets\n",
    "dataset_widget = ipywidgets.Dropdown(options=DATASETS, description='dataset')\n",
    "category_widget = ipywidgets.Dropdown(options=dataset.categories, description='category')\n",
    "count_widget = ipywidgets.IntText(description='count')\n",
    "save_widget = ipywidgets.Button(description='add')\n",
    "\n",
    "# manually update counts at initialization\n",
    "count_widget.value = dataset.get_count(category_widget.value)\n",
    "\n",
    "# sets the active dataset\n",
    "def set_dataset(change):\n",
    "    global dataset\n",
    "    dataset = datasets[change['new']]\n",
    "    count_widget.value = dataset.get_count(category_widget.value)\n",
    "dataset_widget.observe(set_dataset, names='value')\n",
    "\n",
    "# update counts when we select a new category\n",
    "def update_counts(change):\n",
    "    count_widget.value = dataset.get_count(change['new'])\n",
    "category_widget.observe(update_counts, names='value')\n",
    "\n",
    "# save image for category and update counts\n",
    "def save(c):\n",
    "    dataset.save_entry(camera.value, category_widget.value)\n",
    "    count_widget.value = dataset.get_count(category_widget.value)\n",
    "save_widget.on_click(save)\n",
    "\n",
    "data_collection_widget = ipywidgets.VBox([\n",
    "    ipywidgets.HBox([camera_widget]), dataset_widget, category_widget, count_widget, save_widget\n",
    "])\n",
    "\n",
    "# display(data_collection_widget)\n",
    "print(\"데이터 수집 위젯 생성 완료\")"
   ]
  },
  {
   "cell_type": "markdown",
   "id": "8112f6a2-3a76-4080-b742-5d3f32393d21",
   "metadata": {},
   "source": [
    "---\n",
    "### 실시간 데이터 수집\n",
    "\n",
    "- 파일이 저장 될 위치에 대한 dataset을 설정\n",
    "- 저장 할 category를 설정\n",
    "- 카메라에서 생성되는 이미지를 설정한 category에 맞도록 조정 후, add 버튼을 통해 그림 저장\n",
    "- 훈련 이미지 개수는 count에 나타나게 되며, 원하는 양에 맞게 계속 추가 "
   ]
  },
  {
   "cell_type": "code",
   "execution_count": null,
   "id": "c4887417-f8d6-4810-a69a-5a013d3661fa",
   "metadata": {},
   "outputs": [],
   "source": [
    "# Combine all the widgets into one display\n",
    "all_widget = ipywidgets.VBox([\n",
    "    ipywidgets.HBox([data_collection_widget]), \n",
    "    ])\n",
    "\n",
    "display(all_widget)"
   ]
  },
  {
   "cell_type": "markdown",
   "id": "2d41f5b0-95f3-41d3-9223-5b0936ae0409",
   "metadata": {},
   "source": [
    "---\n",
    "### 카메라 및 프로그램 종료\n",
    "\n",
    "- 카메라 인스턴스 종료 및 커널 종료"
   ]
  },
  {
   "cell_type": "code",
   "execution_count": null,
   "id": "0fb2aa5a-dc06-4546-8b55-4618819b5c7d",
   "metadata": {},
   "outputs": [],
   "source": [
    "# 카메라 종료 (리소스 해제), 커널 종료\n",
    "import os\n",
    "os._exit(00)"
   ]
  }
 ],
 "metadata": {
  "kernelspec": {
   "display_name": "Python 3 (ipykernel)",
   "language": "python",
   "name": "python3"
  },
  "language_info": {
   "codemirror_mode": {
    "name": "ipython",
    "version": 3
   },
   "file_extension": ".py",
   "mimetype": "text/x-python",
   "name": "python",
   "nbconvert_exporter": "python",
   "pygments_lexer": "ipython3",
   "version": "3.9.13"
  }
 },
 "nbformat": 4,
 "nbformat_minor": 5
}
